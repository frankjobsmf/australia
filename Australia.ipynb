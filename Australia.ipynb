{
 "cells": [
  {
   "cell_type": "code",
   "execution_count": 1,
   "id": "02c6e0d2",
   "metadata": {},
   "outputs": [],
   "source": [
    "import pandas as pd\n",
    "import os\n",
    "import numpy as np"
   ]
  },
  {
   "cell_type": "code",
   "execution_count": 2,
   "id": "1b4270cc",
   "metadata": {},
   "outputs": [],
   "source": [
    "from bokeh.io import show\n",
    "from bokeh.models import ColumnDataSource\n",
    "from bokeh.palettes import Spectral6\n",
    "from bokeh.plotting import figure\n",
    "from bokeh.transform import factor_cmap"
   ]
  },
  {
   "cell_type": "code",
   "execution_count": 3,
   "id": "2243ad80",
   "metadata": {},
   "outputs": [],
   "source": [
    "url = r\"C:\\weatherAUS.xlsx\""
   ]
  },
  {
   "cell_type": "code",
   "execution_count": 4,
   "id": "a772d3b4",
   "metadata": {},
   "outputs": [],
   "source": [
    "weather = pd.read_excel(url)"
   ]
  },
  {
   "cell_type": "code",
   "execution_count": 5,
   "id": "10408020",
   "metadata": {},
   "outputs": [],
   "source": [
    "#Indique la cantidad inicial de datos disponibles en el set."
   ]
  },
  {
   "cell_type": "code",
   "execution_count": 6,
   "id": "a7525f5e",
   "metadata": {},
   "outputs": [
    {
     "data": {
      "text/plain": [
       "Date             145460\n",
       "Location         145460\n",
       "MinTemp          143975\n",
       "MaxTemp          144199\n",
       "Rainfall         142199\n",
       "Evaporation       82670\n",
       "Sunshine          75625\n",
       "WindGustDir      135134\n",
       "WindGustSpeed    135197\n",
       "WindDir9am       134894\n",
       "WindDir3pm       141232\n",
       "WindSpeed9am     143693\n",
       "WindSpeed3pm     142398\n",
       "Humidity9am      142806\n",
       "Humidity3pm      140953\n",
       "Pressure9am      130395\n",
       "Pressure3pm      130432\n",
       "Cloud9am          89572\n",
       "Cloud3pm          86102\n",
       "Temp9am          143693\n",
       "Temp3pm          141851\n",
       "RainToday        142199\n",
       "RainTomorrow     142193\n",
       "dtype: int64"
      ]
     },
     "execution_count": 6,
     "metadata": {},
     "output_type": "execute_result"
    }
   ],
   "source": [
    "weather.count()"
   ]
  },
  {
   "cell_type": "code",
   "execution_count": 7,
   "id": "de773b33",
   "metadata": {},
   "outputs": [
    {
     "data": {
      "text/plain": [
       "145460"
      ]
     },
     "execution_count": 7,
     "metadata": {},
     "output_type": "execute_result"
    }
   ],
   "source": [
    "len(weather)"
   ]
  },
  {
   "cell_type": "code",
   "execution_count": 8,
   "id": "aa04424e",
   "metadata": {},
   "outputs": [],
   "source": [
    "#Indique de qué manera tratará los valores NA."
   ]
  },
  {
   "cell_type": "code",
   "execution_count": 9,
   "id": "d94b69b0",
   "metadata": {},
   "outputs": [],
   "source": [
    "\n",
    "weather['MinTemp'] = weather['MinTemp'].replace(np.nan, 0)\n",
    "weather['MaxTemp'] = weather['MaxTemp'].replace(np.nan, 0)\n",
    "weather['Rainfall'] = weather['Rainfall'].replace(np.nan, 0)\n",
    "weather['Evaporation'] = weather['Evaporation'].replace(np.nan, 0)\n",
    "weather['Sunshine'] = weather['Sunshine'].replace(np.nan, 'Sin registro')\n",
    "weather['WindGustDir'] = weather['WindGustDir'].replace(np.nan, 'Sin registro')\n",
    "weather['WindGustSpeed'] = weather['WindGustSpeed'].replace(np.nan, 0)\n",
    "weather['WindDir9am'] = weather['WindDir9am'].replace(np.nan, 'Sin registro')\n",
    "weather['WindDir3pm'] = weather['WindDir3pm'].replace(np.nan, 'Sin registro')\n",
    "weather['WindSpeed9am'] = weather['WindSpeed9am'].replace(np.nan, 0)\n",
    "weather['Humidity9am'] = weather['Humidity9am'].replace(np.nan, 0)\n",
    "weather['Humidity3pm'] = weather['Humidity3pm'].replace(np.nan, 0)\n",
    "weather['Pressure9am'] = weather['Pressure9am'].replace(np.nan, 0)\n",
    "weather['Pressure3pm'] = weather['Pressure3pm'].replace(np.nan, 0)\n",
    "weather['Cloud9am'] = weather['Cloud9am'].replace(np.nan, 0)\n",
    "weather['Cloud3pm'] = weather['Cloud3pm'].replace(np.nan, 0)\n",
    "weather['Temp9am'] = weather['Temp9am'].replace(np.nan, 0)\n",
    "weather['Temp3pm'] = weather['Temp3pm'].replace(np.nan, 0)\n",
    "weather['RainToday'] = weather['RainToday'].replace(np.nan, 'Sin registro')\n",
    "weather['RainTomorrow'] = weather['RainTomorrow'].replace(np.nan, 'Sin registro')\n",
    "\n"
   ]
  },
  {
   "cell_type": "code",
   "execution_count": 10,
   "id": "50231ede",
   "metadata": {},
   "outputs": [
    {
     "data": {
      "text/html": [
       "<div>\n",
       "<style scoped>\n",
       "    .dataframe tbody tr th:only-of-type {\n",
       "        vertical-align: middle;\n",
       "    }\n",
       "\n",
       "    .dataframe tbody tr th {\n",
       "        vertical-align: top;\n",
       "    }\n",
       "\n",
       "    .dataframe thead th {\n",
       "        text-align: right;\n",
       "    }\n",
       "</style>\n",
       "<table border=\"1\" class=\"dataframe\">\n",
       "  <thead>\n",
       "    <tr style=\"text-align: right;\">\n",
       "      <th></th>\n",
       "      <th>Date</th>\n",
       "      <th>Location</th>\n",
       "      <th>MinTemp</th>\n",
       "      <th>MaxTemp</th>\n",
       "      <th>Rainfall</th>\n",
       "      <th>Evaporation</th>\n",
       "      <th>Sunshine</th>\n",
       "      <th>WindGustDir</th>\n",
       "      <th>WindGustSpeed</th>\n",
       "      <th>WindDir9am</th>\n",
       "      <th>...</th>\n",
       "      <th>Humidity9am</th>\n",
       "      <th>Humidity3pm</th>\n",
       "      <th>Pressure9am</th>\n",
       "      <th>Pressure3pm</th>\n",
       "      <th>Cloud9am</th>\n",
       "      <th>Cloud3pm</th>\n",
       "      <th>Temp9am</th>\n",
       "      <th>Temp3pm</th>\n",
       "      <th>RainToday</th>\n",
       "      <th>RainTomorrow</th>\n",
       "    </tr>\n",
       "  </thead>\n",
       "  <tbody>\n",
       "    <tr>\n",
       "      <th>145455</th>\n",
       "      <td>2017-06-21</td>\n",
       "      <td>Uluru</td>\n",
       "      <td>2.8</td>\n",
       "      <td>23.4</td>\n",
       "      <td>0.0</td>\n",
       "      <td>0.0</td>\n",
       "      <td>Sin registro</td>\n",
       "      <td>E</td>\n",
       "      <td>31.0</td>\n",
       "      <td>SE</td>\n",
       "      <td>...</td>\n",
       "      <td>51.0</td>\n",
       "      <td>24.0</td>\n",
       "      <td>1024.6</td>\n",
       "      <td>1020.3</td>\n",
       "      <td>0.0</td>\n",
       "      <td>0.0</td>\n",
       "      <td>10.1</td>\n",
       "      <td>22.4</td>\n",
       "      <td>No</td>\n",
       "      <td>No</td>\n",
       "    </tr>\n",
       "    <tr>\n",
       "      <th>145456</th>\n",
       "      <td>2017-06-22</td>\n",
       "      <td>Uluru</td>\n",
       "      <td>3.6</td>\n",
       "      <td>25.3</td>\n",
       "      <td>0.0</td>\n",
       "      <td>0.0</td>\n",
       "      <td>Sin registro</td>\n",
       "      <td>NNW</td>\n",
       "      <td>22.0</td>\n",
       "      <td>SE</td>\n",
       "      <td>...</td>\n",
       "      <td>56.0</td>\n",
       "      <td>21.0</td>\n",
       "      <td>1023.5</td>\n",
       "      <td>1019.1</td>\n",
       "      <td>0.0</td>\n",
       "      <td>0.0</td>\n",
       "      <td>10.9</td>\n",
       "      <td>24.5</td>\n",
       "      <td>No</td>\n",
       "      <td>No</td>\n",
       "    </tr>\n",
       "    <tr>\n",
       "      <th>145457</th>\n",
       "      <td>2017-06-23</td>\n",
       "      <td>Uluru</td>\n",
       "      <td>5.4</td>\n",
       "      <td>26.9</td>\n",
       "      <td>0.0</td>\n",
       "      <td>0.0</td>\n",
       "      <td>Sin registro</td>\n",
       "      <td>N</td>\n",
       "      <td>37.0</td>\n",
       "      <td>SE</td>\n",
       "      <td>...</td>\n",
       "      <td>53.0</td>\n",
       "      <td>24.0</td>\n",
       "      <td>1021.0</td>\n",
       "      <td>1016.8</td>\n",
       "      <td>0.0</td>\n",
       "      <td>0.0</td>\n",
       "      <td>12.5</td>\n",
       "      <td>26.1</td>\n",
       "      <td>No</td>\n",
       "      <td>No</td>\n",
       "    </tr>\n",
       "    <tr>\n",
       "      <th>145458</th>\n",
       "      <td>2017-06-24</td>\n",
       "      <td>Uluru</td>\n",
       "      <td>7.8</td>\n",
       "      <td>27.0</td>\n",
       "      <td>0.0</td>\n",
       "      <td>0.0</td>\n",
       "      <td>Sin registro</td>\n",
       "      <td>SE</td>\n",
       "      <td>28.0</td>\n",
       "      <td>SSE</td>\n",
       "      <td>...</td>\n",
       "      <td>51.0</td>\n",
       "      <td>24.0</td>\n",
       "      <td>1019.4</td>\n",
       "      <td>1016.5</td>\n",
       "      <td>3.0</td>\n",
       "      <td>2.0</td>\n",
       "      <td>15.1</td>\n",
       "      <td>26.0</td>\n",
       "      <td>No</td>\n",
       "      <td>No</td>\n",
       "    </tr>\n",
       "    <tr>\n",
       "      <th>145459</th>\n",
       "      <td>2017-06-25</td>\n",
       "      <td>Uluru</td>\n",
       "      <td>14.9</td>\n",
       "      <td>0.0</td>\n",
       "      <td>0.0</td>\n",
       "      <td>0.0</td>\n",
       "      <td>Sin registro</td>\n",
       "      <td>Sin registro</td>\n",
       "      <td>0.0</td>\n",
       "      <td>ESE</td>\n",
       "      <td>...</td>\n",
       "      <td>62.0</td>\n",
       "      <td>36.0</td>\n",
       "      <td>1020.2</td>\n",
       "      <td>1017.9</td>\n",
       "      <td>8.0</td>\n",
       "      <td>8.0</td>\n",
       "      <td>15.0</td>\n",
       "      <td>20.9</td>\n",
       "      <td>No</td>\n",
       "      <td>Sin registro</td>\n",
       "    </tr>\n",
       "  </tbody>\n",
       "</table>\n",
       "<p>5 rows × 23 columns</p>\n",
       "</div>"
      ],
      "text/plain": [
       "             Date Location  MinTemp  MaxTemp  Rainfall  Evaporation  \\\n",
       "145455 2017-06-21    Uluru      2.8     23.4       0.0          0.0   \n",
       "145456 2017-06-22    Uluru      3.6     25.3       0.0          0.0   \n",
       "145457 2017-06-23    Uluru      5.4     26.9       0.0          0.0   \n",
       "145458 2017-06-24    Uluru      7.8     27.0       0.0          0.0   \n",
       "145459 2017-06-25    Uluru     14.9      0.0       0.0          0.0   \n",
       "\n",
       "            Sunshine   WindGustDir  WindGustSpeed WindDir9am  ... Humidity9am  \\\n",
       "145455  Sin registro             E           31.0         SE  ...        51.0   \n",
       "145456  Sin registro           NNW           22.0         SE  ...        56.0   \n",
       "145457  Sin registro             N           37.0         SE  ...        53.0   \n",
       "145458  Sin registro            SE           28.0        SSE  ...        51.0   \n",
       "145459  Sin registro  Sin registro            0.0        ESE  ...        62.0   \n",
       "\n",
       "        Humidity3pm  Pressure9am  Pressure3pm  Cloud9am  Cloud3pm  Temp9am  \\\n",
       "145455         24.0       1024.6       1020.3       0.0       0.0     10.1   \n",
       "145456         21.0       1023.5       1019.1       0.0       0.0     10.9   \n",
       "145457         24.0       1021.0       1016.8       0.0       0.0     12.5   \n",
       "145458         24.0       1019.4       1016.5       3.0       2.0     15.1   \n",
       "145459         36.0       1020.2       1017.9       8.0       8.0     15.0   \n",
       "\n",
       "        Temp3pm  RainToday  RainTomorrow  \n",
       "145455     22.4         No            No  \n",
       "145456     24.5         No            No  \n",
       "145457     26.1         No            No  \n",
       "145458     26.0         No            No  \n",
       "145459     20.9         No  Sin registro  \n",
       "\n",
       "[5 rows x 23 columns]"
      ]
     },
     "execution_count": 10,
     "metadata": {},
     "output_type": "execute_result"
    }
   ],
   "source": [
    "weather.tail()"
   ]
  },
  {
   "cell_type": "code",
   "execution_count": 11,
   "id": "0e200643",
   "metadata": {},
   "outputs": [],
   "source": [
    "#Qué tipo de datos tiene cada columna disponible en el set de datos."
   ]
  },
  {
   "cell_type": "code",
   "execution_count": 12,
   "id": "69af6049",
   "metadata": {
    "scrolled": true
   },
   "outputs": [
    {
     "data": {
      "text/plain": [
       "Date             datetime64[ns]\n",
       "Location                 object\n",
       "MinTemp                 float64\n",
       "MaxTemp                 float64\n",
       "Rainfall                float64\n",
       "Evaporation             float64\n",
       "Sunshine                 object\n",
       "WindGustDir              object\n",
       "WindGustSpeed           float64\n",
       "WindDir9am               object\n",
       "WindDir3pm               object\n",
       "WindSpeed9am            float64\n",
       "WindSpeed3pm            float64\n",
       "Humidity9am             float64\n",
       "Humidity3pm             float64\n",
       "Pressure9am             float64\n",
       "Pressure3pm             float64\n",
       "Cloud9am                float64\n",
       "Cloud3pm                float64\n",
       "Temp9am                 float64\n",
       "Temp3pm                 float64\n",
       "RainToday                object\n",
       "RainTomorrow             object\n",
       "dtype: object"
      ]
     },
     "execution_count": 12,
     "metadata": {},
     "output_type": "execute_result"
    }
   ],
   "source": [
    "weather.dtypes"
   ]
  },
  {
   "cell_type": "code",
   "execution_count": 13,
   "id": "e8ad061f",
   "metadata": {},
   "outputs": [],
   "source": [
    "#Indicar al menos 3 agrupaciones que podría generar considerando la información disponible."
   ]
  },
  {
   "cell_type": "code",
   "execution_count": 14,
   "id": "8f53b0b4",
   "metadata": {},
   "outputs": [],
   "source": [
    "#agrupacion 1"
   ]
  },
  {
   "cell_type": "code",
   "execution_count": 15,
   "id": "116291ac",
   "metadata": {},
   "outputs": [],
   "source": [
    "locationRain = weather[weather['RainToday'] == 'Yes'].groupby(['Location']).size().reset_index(name='Count')\n",
    "\n",
    "locations = locationRain.Location.head(5)\n",
    "counts = locationRain.Count.head(5)\n",
    "\n",
    "source = ColumnDataSource(data=dict(locations=locations, counts=counts))\n",
    "\n",
    "p = figure(x_range=locations, height=350, toolbar_location=None, title=\"Lluvia total por Localidad\")\n",
    "p.vbar(x='locations', top='counts', width=0.9, source=source, legend_field=\"locations\",\n",
    "      line_color='white', fill_color=factor_cmap('locations', palette=Spectral6, factors=locations))\n",
    "\n",
    "p.xgrid.grid_line_color = None\n",
    "p.y_range.start = 0\n",
    "p.y_range.end = counts.max()\n",
    "p.legend.orientation = \"horizontal\"\n",
    "p.legend.location = \"bottom_center\"\n",
    "\n",
    "show(p)"
   ]
  },
  {
   "cell_type": "code",
   "execution_count": 16,
   "id": "f6996b04",
   "metadata": {},
   "outputs": [],
   "source": [
    "#agrupacion 2"
   ]
  },
  {
   "cell_type": "code",
   "execution_count": 17,
   "id": "e5129ad1",
   "metadata": {},
   "outputs": [],
   "source": [
    "locationOnlyRain = weather[(weather['RainToday'] == 'Yes') & (weather['MinTemp'].astype(int) < 0)].groupby(['Location', 'MinTemp', 'RainToday']).size().head(5)"
   ]
  },
  {
   "cell_type": "code",
   "execution_count": 18,
   "id": "31c28ced",
   "metadata": {},
   "outputs": [
    {
     "data": {
      "text/html": [
       "<div>\n",
       "<style scoped>\n",
       "    .dataframe tbody tr th:only-of-type {\n",
       "        vertical-align: middle;\n",
       "    }\n",
       "\n",
       "    .dataframe tbody tr th {\n",
       "        vertical-align: top;\n",
       "    }\n",
       "\n",
       "    .dataframe thead th {\n",
       "        text-align: right;\n",
       "    }\n",
       "</style>\n",
       "<table border=\"1\" class=\"dataframe\">\n",
       "  <thead>\n",
       "    <tr style=\"text-align: right;\">\n",
       "      <th></th>\n",
       "      <th></th>\n",
       "      <th></th>\n",
       "      <th>0</th>\n",
       "    </tr>\n",
       "    <tr>\n",
       "      <th>Location</th>\n",
       "      <th>MinTemp</th>\n",
       "      <th>RainToday</th>\n",
       "      <th></th>\n",
       "    </tr>\n",
       "  </thead>\n",
       "  <tbody>\n",
       "    <tr>\n",
       "      <th rowspan=\"3\" valign=\"top\">Albury</th>\n",
       "      <th>-2.4</th>\n",
       "      <th>Yes</th>\n",
       "      <td>1</td>\n",
       "    </tr>\n",
       "    <tr>\n",
       "      <th>-1.1</th>\n",
       "      <th>Yes</th>\n",
       "      <td>1</td>\n",
       "    </tr>\n",
       "    <tr>\n",
       "      <th>-1.0</th>\n",
       "      <th>Yes</th>\n",
       "      <td>1</td>\n",
       "    </tr>\n",
       "    <tr>\n",
       "      <th rowspan=\"2\" valign=\"top\">Ballarat</th>\n",
       "      <th>-3.5</th>\n",
       "      <th>Yes</th>\n",
       "      <td>1</td>\n",
       "    </tr>\n",
       "    <tr>\n",
       "      <th>-3.0</th>\n",
       "      <th>Yes</th>\n",
       "      <td>1</td>\n",
       "    </tr>\n",
       "  </tbody>\n",
       "</table>\n",
       "</div>"
      ],
      "text/plain": [
       "                            0\n",
       "Location MinTemp RainToday   \n",
       "Albury   -2.4    Yes        1\n",
       "         -1.1    Yes        1\n",
       "         -1.0    Yes        1\n",
       "Ballarat -3.5    Yes        1\n",
       "         -3.0    Yes        1"
      ]
     },
     "execution_count": 18,
     "metadata": {},
     "output_type": "execute_result"
    }
   ],
   "source": [
    "pd.DataFrame(locationOnlyRain)"
   ]
  },
  {
   "cell_type": "code",
   "execution_count": 19,
   "id": "a598fc94",
   "metadata": {},
   "outputs": [],
   "source": [
    "#agrupacion 3"
   ]
  },
  {
   "cell_type": "code",
   "execution_count": 66,
   "id": "8b16f4f6",
   "metadata": {},
   "outputs": [],
   "source": [
    "locationRainMaxTemp = weather[(weather['Humidity9am'] > 70) & (weather['MaxTemp'] > 17) & (weather['RainToday'] == 'Yes')].groupby(['Location', 'Humidity9am', 'MaxTemp', 'RainToday']).size()"
   ]
  },
  {
   "cell_type": "code",
   "execution_count": 67,
   "id": "1c2a85f7",
   "metadata": {},
   "outputs": [
    {
     "data": {
      "text/plain": [
       "pandas.core.series.Series"
      ]
     },
     "execution_count": 67,
     "metadata": {},
     "output_type": "execute_result"
    }
   ],
   "source": [
    "type(locationRainMaxTemp)"
   ]
  },
  {
   "cell_type": "code",
   "execution_count": 68,
   "id": "b47269b8",
   "metadata": {},
   "outputs": [
    {
     "data": {
      "text/html": [
       "<div>\n",
       "<style scoped>\n",
       "    .dataframe tbody tr th:only-of-type {\n",
       "        vertical-align: middle;\n",
       "    }\n",
       "\n",
       "    .dataframe tbody tr th {\n",
       "        vertical-align: top;\n",
       "    }\n",
       "\n",
       "    .dataframe thead th {\n",
       "        text-align: right;\n",
       "    }\n",
       "</style>\n",
       "<table border=\"1\" class=\"dataframe\">\n",
       "  <thead>\n",
       "    <tr style=\"text-align: right;\">\n",
       "      <th></th>\n",
       "      <th></th>\n",
       "      <th></th>\n",
       "      <th></th>\n",
       "      <th>0</th>\n",
       "    </tr>\n",
       "    <tr>\n",
       "      <th>Location</th>\n",
       "      <th>Humidity9am</th>\n",
       "      <th>MaxTemp</th>\n",
       "      <th>RainToday</th>\n",
       "      <th></th>\n",
       "    </tr>\n",
       "  </thead>\n",
       "  <tbody>\n",
       "    <tr>\n",
       "      <th rowspan=\"5\" valign=\"top\">Adelaide</th>\n",
       "      <th rowspan=\"5\" valign=\"top\">71.0</th>\n",
       "      <th>17.1</th>\n",
       "      <th>Yes</th>\n",
       "      <td>1</td>\n",
       "    </tr>\n",
       "    <tr>\n",
       "      <th>17.8</th>\n",
       "      <th>Yes</th>\n",
       "      <td>1</td>\n",
       "    </tr>\n",
       "    <tr>\n",
       "      <th>17.9</th>\n",
       "      <th>Yes</th>\n",
       "      <td>1</td>\n",
       "    </tr>\n",
       "    <tr>\n",
       "      <th>20.1</th>\n",
       "      <th>Yes</th>\n",
       "      <td>1</td>\n",
       "    </tr>\n",
       "    <tr>\n",
       "      <th>20.2</th>\n",
       "      <th>Yes</th>\n",
       "      <td>1</td>\n",
       "    </tr>\n",
       "    <tr>\n",
       "      <th>...</th>\n",
       "      <th>...</th>\n",
       "      <th>...</th>\n",
       "      <th>...</th>\n",
       "      <td>...</td>\n",
       "    </tr>\n",
       "    <tr>\n",
       "      <th rowspan=\"5\" valign=\"top\">Woomera</th>\n",
       "      <th>98.0</th>\n",
       "      <th>27.9</th>\n",
       "      <th>Yes</th>\n",
       "      <td>1</td>\n",
       "    </tr>\n",
       "    <tr>\n",
       "      <th rowspan=\"4\" valign=\"top\">99.0</th>\n",
       "      <th>20.5</th>\n",
       "      <th>Yes</th>\n",
       "      <td>1</td>\n",
       "    </tr>\n",
       "    <tr>\n",
       "      <th>20.6</th>\n",
       "      <th>Yes</th>\n",
       "      <td>1</td>\n",
       "    </tr>\n",
       "    <tr>\n",
       "      <th>23.3</th>\n",
       "      <th>Yes</th>\n",
       "      <td>1</td>\n",
       "    </tr>\n",
       "    <tr>\n",
       "      <th>23.4</th>\n",
       "      <th>Yes</th>\n",
       "      <td>1</td>\n",
       "    </tr>\n",
       "  </tbody>\n",
       "</table>\n",
       "<p>13982 rows × 1 columns</p>\n",
       "</div>"
      ],
      "text/plain": [
       "                                        0\n",
       "Location Humidity9am MaxTemp RainToday   \n",
       "Adelaide 71.0        17.1    Yes        1\n",
       "                     17.8    Yes        1\n",
       "                     17.9    Yes        1\n",
       "                     20.1    Yes        1\n",
       "                     20.2    Yes        1\n",
       "...                                    ..\n",
       "Woomera  98.0        27.9    Yes        1\n",
       "         99.0        20.5    Yes        1\n",
       "                     20.6    Yes        1\n",
       "                     23.3    Yes        1\n",
       "                     23.4    Yes        1\n",
       "\n",
       "[13982 rows x 1 columns]"
      ]
     },
     "execution_count": 68,
     "metadata": {},
     "output_type": "execute_result"
    }
   ],
   "source": [
    "pd.DataFrame(locationRainMaxTemp)"
   ]
  },
  {
   "cell_type": "code",
   "execution_count": null,
   "id": "e5a21657",
   "metadata": {},
   "outputs": [],
   "source": []
  },
  {
   "cell_type": "code",
   "execution_count": null,
   "id": "cd6765b2",
   "metadata": {},
   "outputs": [],
   "source": []
  }
 ],
 "metadata": {
  "kernelspec": {
   "display_name": "Python 3 (ipykernel)",
   "language": "python",
   "name": "python3"
  },
  "language_info": {
   "codemirror_mode": {
    "name": "ipython",
    "version": 3
   },
   "file_extension": ".py",
   "mimetype": "text/x-python",
   "name": "python",
   "nbconvert_exporter": "python",
   "pygments_lexer": "ipython3",
   "version": "3.9.12"
  }
 },
 "nbformat": 4,
 "nbformat_minor": 5
}
