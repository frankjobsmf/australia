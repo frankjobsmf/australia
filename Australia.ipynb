{
 "cells": [
  {
   "cell_type": "code",
   "execution_count": 19,
   "id": "02c6e0d2",
   "metadata": {},
   "outputs": [],
   "source": [
    "import pandas as pd\n",
    "import os\n",
    "import numpy as np"
   ]
  },
  {
   "cell_type": "code",
   "execution_count": 20,
   "id": "1b4270cc",
   "metadata": {},
   "outputs": [],
   "source": [
    "from bokeh.io import show\n",
    "from bokeh.models import ColumnDataSource\n",
    "from bokeh.palettes import Spectral6\n",
    "from bokeh.plotting import figure\n",
    "from bokeh.transform import factor_cmap"
   ]
  },
  {
   "cell_type": "code",
   "execution_count": 21,
   "id": "2243ad80",
   "metadata": {},
   "outputs": [],
   "source": [
    "url = r\"C:\\weatherAUS.xlsx\""
   ]
  },
  {
   "cell_type": "code",
   "execution_count": null,
   "id": "a772d3b4",
   "metadata": {},
   "outputs": [],
   "source": [
    "weather = pd.read_excel(url)"
   ]
  },
  {
   "cell_type": "code",
   "execution_count": null,
   "id": "10408020",
   "metadata": {},
   "outputs": [],
   "source": [
    "#Indique la cantidad inicial de datos disponibles en el set."
   ]
  },
  {
   "cell_type": "code",
   "execution_count": null,
   "id": "a7525f5e",
   "metadata": {},
   "outputs": [],
   "source": [
    "weather.count()"
   ]
  },
  {
   "cell_type": "code",
   "execution_count": null,
   "id": "de773b33",
   "metadata": {},
   "outputs": [],
   "source": [
    "len(weather)"
   ]
  },
  {
   "cell_type": "code",
   "execution_count": null,
   "id": "aa04424e",
   "metadata": {},
   "outputs": [],
   "source": [
    "#Indique de qué manera tratará los valores NA."
   ]
  },
  {
   "cell_type": "code",
   "execution_count": null,
   "id": "d94b69b0",
   "metadata": {},
   "outputs": [],
   "source": [
    "\n",
    "weather['MinTemp'] = weather['MinTemp'].replace(np.nan, 0)\n",
    "weather['MaxTemp'] = weather['MaxTemp'].replace(np.nan, 0)\n",
    "weather['Rainfall'] = weather['Rainfall'].replace(np.nan, 0)\n",
    "weather['Evaporation'] = weather['Evaporation'].replace(np.nan, 0)\n",
    "weather['Sunshine'] = weather['Sunshine'].replace(np.nan, 0)\n",
    "weather['WindGustDir'] = weather['WindGustDir'].replace(np.nan, 'Sin registro')\n",
    "weather['WindGustSpeed'] = weather['WindGustSpeed'].replace(np.nan, 0)\n",
    "weather['WindDir9am'] = weather['WindDir9am'].replace(np.nan, 'Sin registro')\n",
    "weather['WindDir3pm'] = weather['WindDir3pm'].replace(np.nan, 'Sin registro')\n",
    "weather['WindSpeed9am'] = weather['WindSpeed9am'].replace(np.nan, 0)\n",
    "weather['Humidity9am'] = weather['Humidity9am'].replace(np.nan, 0)\n",
    "weather['Humidity3pm'] = weather['Humidity3pm'].replace(np.nan, 0)\n",
    "weather['Pressure9am'] = weather['Pressure9am'].replace(np.nan, 0)\n",
    "weather['Pressure3pm'] = weather['Pressure3pm'].replace(np.nan, 0)\n",
    "weather['Cloud9am'] = weather['Cloud9am'].replace(np.nan, 0)\n",
    "weather['Cloud3pm'] = weather['Cloud3pm'].replace(np.nan, 0)\n",
    "weather['Temp9am'] = weather['Temp9am'].replace(np.nan, 0)\n",
    "weather['Temp3pm'] = weather['Temp3pm'].replace(np.nan, 0)\n",
    "weather['RainToday'] = weather['RainToday'].replace(np.nan, 'Sin registro')\n",
    "weather['RainTomorrow'] = weather['RainTomorrow'].replace(np.nan, 'Sin registro')\n",
    "\n"
   ]
  },
  {
   "cell_type": "code",
   "execution_count": null,
   "id": "50231ede",
   "metadata": {},
   "outputs": [],
   "source": [
    "weather.tail()"
   ]
  },
  {
   "cell_type": "code",
   "execution_count": null,
   "id": "0e200643",
   "metadata": {},
   "outputs": [],
   "source": [
    "#Qué tipo de datos tiene cada columna disponible en el set de datos."
   ]
  },
  {
   "cell_type": "code",
   "execution_count": null,
   "id": "69af6049",
   "metadata": {
    "scrolled": true
   },
   "outputs": [],
   "source": [
    "weather.dtypes"
   ]
  },
  {
   "cell_type": "code",
   "execution_count": null,
   "id": "e8ad061f",
   "metadata": {},
   "outputs": [],
   "source": [
    "#Indicar al menos 3 agrupaciones que podría generar considerando la información disponible."
   ]
  },
  {
   "cell_type": "code",
   "execution_count": null,
   "id": "8f53b0b4",
   "metadata": {},
   "outputs": [],
   "source": [
    "#agrupacion 1"
   ]
  },
  {
   "cell_type": "code",
   "execution_count": null,
   "id": "116291ac",
   "metadata": {},
   "outputs": [],
   "source": [
    "locationRain = weather[weather['RainToday'] == 'Yes'].groupby(['Location']).size().reset_index(name='Count')\n",
    "\n",
    "locations = locationRain.Location.head(5)\n",
    "counts = locationRain.Count.head(5)\n",
    "\n",
    "source = ColumnDataSource(data=dict(locations=locations, counts=counts))\n",
    "\n",
    "p = figure(x_range=locations, height=350, toolbar_location=None, title=\"Lluvia total por Localidad\")\n",
    "p.vbar(x='locations', top='counts', width=0.9, source=source, legend_field=\"locations\",\n",
    "      line_color='white', fill_color=factor_cmap('locations', palette=Spectral6, factors=locations))\n",
    "\n",
    "p.xgrid.grid_line_color = None\n",
    "p.y_range.start = 0\n",
    "p.y_range.end = counts.max()\n",
    "p.legend.orientation = \"horizontal\"\n",
    "p.legend.location = \"bottom_center\"\n",
    "\n",
    "show(p)"
   ]
  },
  {
   "cell_type": "code",
   "execution_count": 16,
   "id": "f6996b04",
   "metadata": {},
   "outputs": [],
   "source": [
    "#agrupacion 2"
   ]
  },
  {
   "cell_type": "code",
   "execution_count": 17,
   "id": "666ae91e",
   "metadata": {},
   "outputs": [],
   "source": [
    "locationOnlyRain = weather[(weather['RainToday'] == 'Yes') & (weather['MinTemp'].astype(int) < 0)].groupby(['Location', 'MinTemp', 'RainToday']).size().head(5)"
   ]
  },
  {
   "cell_type": "code",
   "execution_count": 18,
   "id": "ec77be17",
   "metadata": {},
   "outputs": [
    {
     "data": {
      "text/html": [
       "<div>\n",
       "<style scoped>\n",
       "    .dataframe tbody tr th:only-of-type {\n",
       "        vertical-align: middle;\n",
       "    }\n",
       "\n",
       "    .dataframe tbody tr th {\n",
       "        vertical-align: top;\n",
       "    }\n",
       "\n",
       "    .dataframe thead th {\n",
       "        text-align: right;\n",
       "    }\n",
       "</style>\n",
       "<table border=\"1\" class=\"dataframe\">\n",
       "  <thead>\n",
       "    <tr style=\"text-align: right;\">\n",
       "      <th></th>\n",
       "      <th></th>\n",
       "      <th></th>\n",
       "      <th>0</th>\n",
       "    </tr>\n",
       "    <tr>\n",
       "      <th>Location</th>\n",
       "      <th>MinTemp</th>\n",
       "      <th>RainToday</th>\n",
       "      <th></th>\n",
       "    </tr>\n",
       "  </thead>\n",
       "  <tbody>\n",
       "    <tr>\n",
       "      <th rowspan=\"3\" valign=\"top\">Albury</th>\n",
       "      <th>-2.4</th>\n",
       "      <th>Yes</th>\n",
       "      <td>1</td>\n",
       "    </tr>\n",
       "    <tr>\n",
       "      <th>-1.1</th>\n",
       "      <th>Yes</th>\n",
       "      <td>1</td>\n",
       "    </tr>\n",
       "    <tr>\n",
       "      <th>-1.0</th>\n",
       "      <th>Yes</th>\n",
       "      <td>1</td>\n",
       "    </tr>\n",
       "    <tr>\n",
       "      <th rowspan=\"2\" valign=\"top\">Ballarat</th>\n",
       "      <th>-3.5</th>\n",
       "      <th>Yes</th>\n",
       "      <td>1</td>\n",
       "    </tr>\n",
       "    <tr>\n",
       "      <th>-3.0</th>\n",
       "      <th>Yes</th>\n",
       "      <td>1</td>\n",
       "    </tr>\n",
       "  </tbody>\n",
       "</table>\n",
       "</div>"
      ],
      "text/plain": [
       "                            0\n",
       "Location MinTemp RainToday   \n",
       "Albury   -2.4    Yes        1\n",
       "         -1.1    Yes        1\n",
       "         -1.0    Yes        1\n",
       "Ballarat -3.5    Yes        1\n",
       "         -3.0    Yes        1"
      ]
     },
     "execution_count": 18,
     "metadata": {},
     "output_type": "execute_result"
    }
   ],
   "source": [
    "pd.DataFrame(locationOnlyRain)"
   ]
  },
  {
   "cell_type": "code",
   "execution_count": null,
   "id": "2837702b",
   "metadata": {},
   "outputs": [],
   "source": []
  }
 ],
 "metadata": {
  "kernelspec": {
   "display_name": "Python 3 (ipykernel)",
   "language": "python",
   "name": "python3"
  },
  "language_info": {
   "codemirror_mode": {
    "name": "ipython",
    "version": 3
   },
   "file_extension": ".py",
   "mimetype": "text/x-python",
   "name": "python",
   "nbconvert_exporter": "python",
   "pygments_lexer": "ipython3",
   "version": "3.9.12"
  }
 },
 "nbformat": 4,
 "nbformat_minor": 5
}
